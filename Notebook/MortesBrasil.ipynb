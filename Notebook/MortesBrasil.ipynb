{
  "nbformat": 4,
  "nbformat_minor": 0,
  "metadata": {
    "colab": {
      "name": "MortesBrasil.ipynb",
      "provenance": [],
      "collapsed_sections": []
    },
    "kernelspec": {
      "name": "python3",
      "display_name": "Python 3"
    }
  },
  "cells": [
    {
      "cell_type": "markdown",
      "metadata": {
        "id": "Mpr_eTdYnzml"
      },
      "source": [
        "Base da pesquisa realizada referentes as mortes no Brasil, dados encontrados em: https://www.kaggle.com/amandalk/cause-of-death-in-brazil-20192020\r\n",
        "\r\n",
        "O codigo abaixo foi a base da aplicação criada no streamlit onde é possivel pesquisar sobre as mortes ocorridas dentro de determinados parametros "
      ]
    },
    {
      "cell_type": "code",
      "metadata": {
        "id": "9YpYNh4ZCwyg"
      },
      "source": [
        "import pandas as pd\r\n",
        "import numpy as np"
      ],
      "execution_count": 2,
      "outputs": []
    },
    {
      "cell_type": "code",
      "metadata": {
        "id": "-AkXTSs5D2Nj"
      },
      "source": [
        "#Importação do arquivo em csv\r\n",
        "data = pd.read_csv('/content/death_cause_brazil.csv')\r\n",
        "print(\"Dados Carregados\")"
      ],
      "execution_count": null,
      "outputs": []
    },
    {
      "cell_type": "code",
      "metadata": {
        "id": "dRXbhfdFGCDs"
      },
      "source": [
        "#Verificando as colunas presentes no dataframe\r\n",
        "data.columns"
      ],
      "execution_count": null,
      "outputs": []
    },
    {
      "cell_type": "code",
      "metadata": {
        "id": "kA2xBdAWfei3"
      },
      "source": [
        "#Deletando a coluna Total pois a mesma não se mostra necessaria no cenario atual da pesquisa\r\n",
        "data.drop(['total'], axis=1, inplace=True)\r\n",
        "print(\"Ok\")"
      ],
      "execution_count": null,
      "outputs": []
    },
    {
      "cell_type": "code",
      "metadata": {
        "id": "hfJF5Mernvdm"
      },
      "source": [
        "#Verificando as colunas presentes no dataframe após a exclusão\r\n",
        "data.columns"
      ],
      "execution_count": null,
      "outputs": []
    },
    {
      "cell_type": "code",
      "metadata": {
        "id": "nSTKPoGzFCvQ"
      },
      "source": [
        "#Ordenando os dados pelo sexo\r\n",
        "data.groupby(by='gender').size().sort_values()"
      ],
      "execution_count": null,
      "outputs": []
    },
    {
      "cell_type": "code",
      "metadata": {
        "id": "EBKvMeoZF-ps"
      },
      "source": [
        "#Ordenando os dados pelo Estado\r\n",
        "data.groupby(by='state').size().sort_values()"
      ],
      "execution_count": null,
      "outputs": []
    },
    {
      "cell_type": "code",
      "metadata": {
        "id": "QChSLA4HGc4e"
      },
      "source": [
        "#Ordenando os dados pela cor da pele\r\n",
        "data.groupby(by='color').size().sort_values(ascending=False)"
      ],
      "execution_count": null,
      "outputs": []
    },
    {
      "cell_type": "code",
      "metadata": {
        "id": "JSbgAWi9HmoS"
      },
      "source": [
        "#Pesquisando no dataframe dentro das especificações fornecidas e retornando o total\r\n",
        "r = data.loc[(data.gender=='F')&(data.state=='SP')&(data.color=='White')]\r\n",
        "#Os valores acima forma setado para fins de teste, na aplicação o usuario os fornece\r\n",
        "total = len(r)\r\n",
        "total\r\n",
        "r"
      ],
      "execution_count": null,
      "outputs": []
    }
  ]
}